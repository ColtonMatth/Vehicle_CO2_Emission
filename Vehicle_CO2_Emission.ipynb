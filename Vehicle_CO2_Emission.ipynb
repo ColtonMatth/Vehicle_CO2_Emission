{
 "cells": [
  {
   "cell_type": "markdown",
   "id": "de114356",
   "metadata": {},
   "source": [
    "# [**Vehicle CO2 Emission**](https://www.kaggle.com/datasets/brsahan/vehicle-co2-emissions-dataset/data \"Kaggle: Vehicle CO2 Emissions\")"
   ]
  },
  {
   "cell_type": "markdown",
   "id": "961a0fa6",
   "metadata": {},
   "source": [
    "## **About Dataset**"
   ]
  },
  {
   "cell_type": "markdown",
   "id": "5e4be644",
   "metadata": {},
   "source": [
    "This dataset contains information on vehicle specifications, fuel consumption, and CO2 emissions, collected to analyze the environmental impact of vehicles and predict their CO2 emissions using regression models. The dataset is structured to support both **Simple Linear Regression (SLR)** and **Multiple Linear Regression (MLR)** approaches for machine learning projects."
   ]
  },
  {
   "cell_type": "markdown",
   "id": "6a2194a1",
   "metadata": {},
   "source": [
    "#### **Key Features**"
   ]
  },
  {
   "cell_type": "markdown",
   "id": "be9ae3c8",
   "metadata": {},
   "source": [
    "* **Make** - The manufacturer or brand of the vehicle (e.g., Toyota, Ford, BMW, etc.).\n",
    "* **Model** - The specific model of the vehicle, indicating its design and version.\n",
    "* **Vehicle Class** - Classification of vehicles based on size and intended usage (e.g., Compact, SUV, Sedan, etc.).\n",
    "* **Engine Size (Liters)** - The displacement volume of the engine, measured in liters (L).\n",
    "* **Cylinders** - The number of cylinders in the engine, which affects engine performance and efficiency. \n",
    "* **Transmission** - The type of transmission system in the vehicle, which determines how the engine power is delivered to the wheels.\n",
    "* **Fuel Type** - The type of fuel used by the vehicle. Different fuel types affects efficiency, cost, and emissions.\n",
    "* **Fuel Consumption City (L/100 km)** - The fuel consumption of the vehicle in city driving conditions, measured in liters per 100 kilometers (L/100 km).\n",
    "* **Fuel Consumption Hwy (L/100 km)** - The fuel consumption of the vehicle on highways, measured in liters per 100 kilometers (L/100 km).\n",
    "* **Fuel Consumption Combined (L/100 km)** - Combined fuel consumption (L/100 km).\n",
    "* **Target: CO2 Emission (g/km)** - CO2 emissions in grams per kilometer."
   ]
  },
  {
   "cell_type": "markdown",
   "id": "67b3818a",
   "metadata": {},
   "source": [
    "## **Import Required Libraries & Setup**"
   ]
  },
  {
   "cell_type": "code",
   "execution_count": 1,
   "id": "e08f86f9",
   "metadata": {},
   "outputs": [],
   "source": [
    "import pandas as pd\n",
    "import numpy as np\n",
    "import matplotlib.pyplot as plt\n",
    "import seaborn as sns\n",
    "import sqlite3\n",
    "import prettytable\n",
    "import csv\n",
    "\n",
    "prettytable.DEFAULT = 'DEFAULT'"
   ]
  },
  {
   "cell_type": "code",
   "execution_count": 2,
   "id": "33286f38",
   "metadata": {},
   "outputs": [],
   "source": [
    "# Set up database connection\n",
    "con = sqlite3.connect('vehicle_co2_emission_data.db')\n",
    "cur = con.cursor()"
   ]
  },
  {
   "cell_type": "code",
   "execution_count": 3,
   "id": "e2c00125",
   "metadata": {},
   "outputs": [],
   "source": [
    "%load_ext sql\n",
    "\n",
    "%sql sqlite:///vehicle_co2_emission_data.db"
   ]
  },
  {
   "cell_type": "code",
   "execution_count": 4,
   "id": "fb7d9b69",
   "metadata": {},
   "outputs": [
    {
     "data": {
      "text/plain": [
       "7385"
      ]
     },
     "execution_count": 4,
     "metadata": {},
     "output_type": "execute_result"
    }
   ],
   "source": [
    "df = pd.read_csv('co2.csv')\n",
    "df.to_sql('vehicle_co2_emission_TBL', con, if_exists='replace', index=False)"
   ]
  },
  {
   "cell_type": "code",
   "execution_count": 5,
   "id": "984d7f93",
   "metadata": {},
   "outputs": [
    {
     "name": "stdout",
     "output_type": "stream",
     "text": [
      " * sqlite:///vehicle_co2_emission_data.db\n",
      "Done.\n"
     ]
    },
    {
     "data": {
      "text/plain": [
       "[]"
      ]
     },
     "execution_count": 5,
     "metadata": {},
     "output_type": "execute_result"
    }
   ],
   "source": [
    "# Drop the table if it exists\n",
    "%sql DROP TABLE IF EXISTS vehicle_co2_emission_table;"
   ]
  },
  {
   "cell_type": "code",
   "execution_count": 6,
   "id": "c404f174",
   "metadata": {},
   "outputs": [
    {
     "name": "stdout",
     "output_type": "stream",
     "text": [
      " * sqlite:///vehicle_co2_emission_data.db\n",
      "Done.\n"
     ]
    },
    {
     "data": {
      "text/plain": [
       "[]"
      ]
     },
     "execution_count": 6,
     "metadata": {},
     "output_type": "execute_result"
    }
   ],
   "source": [
    "%sql CREATE TABLE vehicle_co2_emission_table AS SELECT * FROM vehicle_co2_emission_TBL;"
   ]
  },
  {
   "cell_type": "markdown",
   "id": "aaba2a7b",
   "metadata": {},
   "source": [
    "## **Queries in SQL**"
   ]
  },
  {
   "cell_type": "markdown",
   "id": "25cf568b",
   "metadata": {},
   "source": [
    "1. Which vehicle make has the highest average C02 emissions?"
   ]
  },
  {
   "cell_type": "code",
   "execution_count": 8,
   "id": "61311028",
   "metadata": {},
   "outputs": [
    {
     "name": "stdout",
     "output_type": "stream",
     "text": [
      " * sqlite:///vehicle_co2_emission_data.db\n",
      "Done.\n"
     ]
    },
    {
     "data": {
      "text/html": [
       "<table>\n",
       "    <thead>\n",
       "        <tr>\n",
       "            <th>Make</th>\n",
       "            <th>avg_co2</th>\n",
       "        </tr>\n",
       "    </thead>\n",
       "    <tbody>\n",
       "        <tr>\n",
       "            <td>BUGATTI</td>\n",
       "            <td>522.0</td>\n",
       "        </tr>\n",
       "    </tbody>\n",
       "</table>"
      ],
      "text/plain": [
       "[('BUGATTI', 522.0)]"
      ]
     },
     "execution_count": 8,
     "metadata": {},
     "output_type": "execute_result"
    }
   ],
   "source": [
    "%%sql\n",
    "\n",
    "SELECT \"Make\",\n",
    "    AVG(\"CO2 Emissions(g/km)\") as avg_co2\n",
    "FROM vehicle_co2_emission_table\n",
    "GROUP BY \"Make\"\n",
    "ORDER BY avg_co2 DESC\n",
    "LIMIT 1;"
   ]
  },
  {
   "cell_type": "markdown",
   "id": "7362bf0b",
   "metadata": {},
   "source": [
    "2. What are the top 5 most fuel-efficient vehicle models (lowest combined fuel consumption)?"
   ]
  },
  {
   "cell_type": "code",
   "execution_count": 9,
   "id": "73a4e11a",
   "metadata": {},
   "outputs": [
    {
     "name": "stdout",
     "output_type": "stream",
     "text": [
      " * sqlite:///vehicle_co2_emission_data.db\n",
      "Done.\n"
     ]
    },
    {
     "data": {
      "text/html": [
       "<table>\n",
       "    <thead>\n",
       "        <tr>\n",
       "            <th>Make</th>\n",
       "            <th>Model</th>\n",
       "            <th>fuel_comb</th>\n",
       "        </tr>\n",
       "    </thead>\n",
       "    <tbody>\n",
       "        <tr>\n",
       "            <td>HYUNDAI</td>\n",
       "            <td>IONIQ BLUE</td>\n",
       "            <td>4.1</td>\n",
       "        </tr>\n",
       "        <tr>\n",
       "            <td>HYUNDAI</td>\n",
       "            <td>IONIQ BLUE</td>\n",
       "            <td>4.1</td>\n",
       "        </tr>\n",
       "        <tr>\n",
       "            <td>HYUNDAI</td>\n",
       "            <td>IONIQ Blue</td>\n",
       "            <td>4.1</td>\n",
       "        </tr>\n",
       "        <tr>\n",
       "            <td>HYUNDAI</td>\n",
       "            <td>IONIQ Blue</td>\n",
       "            <td>4.1</td>\n",
       "        </tr>\n",
       "        <tr>\n",
       "            <td>HYUNDAI</td>\n",
       "            <td>IONIQ</td>\n",
       "            <td>4.2</td>\n",
       "        </tr>\n",
       "    </tbody>\n",
       "</table>"
      ],
      "text/plain": [
       "[('HYUNDAI', 'IONIQ BLUE', 4.1),\n",
       " ('HYUNDAI', 'IONIQ BLUE', 4.1),\n",
       " ('HYUNDAI', 'IONIQ Blue', 4.1),\n",
       " ('HYUNDAI', 'IONIQ Blue', 4.1),\n",
       " ('HYUNDAI', 'IONIQ', 4.2)]"
      ]
     },
     "execution_count": 9,
     "metadata": {},
     "output_type": "execute_result"
    }
   ],
   "source": [
    "%%sql\n",
    "\n",
    "SELECT \"Make\",\n",
    "    \"Model\",\n",
    "    \"Fuel Consumption Comb (L/100 km)\" as fuel_comb\n",
    "FROM vehicle_co2_emission_table\n",
    "ORDER BY fuel_comb ASC\n",
    "LIMIT 5;"
   ]
  },
  {
   "cell_type": "markdown",
   "id": "04c8d6fa",
   "metadata": {},
   "source": [
    "3. How do average CO2 emissions differ by fuel type?"
   ]
  },
  {
   "cell_type": "code",
   "execution_count": 10,
   "id": "3d13ceae",
   "metadata": {},
   "outputs": [
    {
     "name": "stdout",
     "output_type": "stream",
     "text": [
      " * sqlite:///vehicle_co2_emission_data.db\n",
      "Done.\n"
     ]
    },
    {
     "data": {
      "text/html": [
       "<table>\n",
       "    <thead>\n",
       "        <tr>\n",
       "            <th>Fuel Type</th>\n",
       "            <th>avg_co2</th>\n",
       "        </tr>\n",
       "    </thead>\n",
       "    <tbody>\n",
       "        <tr>\n",
       "            <td>N</td>\n",
       "            <td>213.0</td>\n",
       "        </tr>\n",
       "        <tr>\n",
       "            <td>X</td>\n",
       "            <td>235.11932911740445</td>\n",
       "        </tr>\n",
       "        <tr>\n",
       "            <td>D</td>\n",
       "            <td>237.54857142857142</td>\n",
       "        </tr>\n",
       "        <tr>\n",
       "            <td>Z</td>\n",
       "            <td>266.0434103685197</td>\n",
       "        </tr>\n",
       "        <tr>\n",
       "            <td>E</td>\n",
       "            <td>275.0918918918919</td>\n",
       "        </tr>\n",
       "    </tbody>\n",
       "</table>"
      ],
      "text/plain": [
       "[('N', 213.0),\n",
       " ('X', 235.11932911740445),\n",
       " ('D', 237.54857142857142),\n",
       " ('Z', 266.0434103685197),\n",
       " ('E', 275.0918918918919)]"
      ]
     },
     "execution_count": 10,
     "metadata": {},
     "output_type": "execute_result"
    }
   ],
   "source": [
    "%%sql\n",
    "\n",
    "SELECT \"Fuel Type\",\n",
    "    AVG(\"CO2 Emissions(g/km)\") AS avg_co2\n",
    "FROM vehicle_co2_emission_table\n",
    "GROUP BY \"Fuel Type\"\n",
    "ORDER BY avg_co2 ASC;"
   ]
  },
  {
   "cell_type": "markdown",
   "id": "758729c9",
   "metadata": {},
   "source": [
    "4. What is the average CO2 emission for each vehicle class?"
   ]
  },
  {
   "cell_type": "code",
   "execution_count": 14,
   "id": "37afbd0b",
   "metadata": {},
   "outputs": [
    {
     "name": "stdout",
     "output_type": "stream",
     "text": [
      " * sqlite:///vehicle_co2_emission_data.db\n",
      "Done.\n"
     ]
    },
    {
     "data": {
      "text/html": [
       "<table>\n",
       "    <thead>\n",
       "        <tr>\n",
       "            <th>Vehicle Class</th>\n",
       "            <th>avg_co2</th>\n",
       "        </tr>\n",
       "    </thead>\n",
       "    <tbody>\n",
       "        <tr>\n",
       "            <td>VAN - PASSENGER</td>\n",
       "            <td>397.2121212121212</td>\n",
       "        </tr>\n",
       "        <tr>\n",
       "            <td>VAN - CARGO</td>\n",
       "            <td>361.5</td>\n",
       "        </tr>\n",
       "        <tr>\n",
       "            <td>SUV - STANDARD</td>\n",
       "            <td>304.83673469387753</td>\n",
       "        </tr>\n",
       "        <tr>\n",
       "            <td>PICKUP TRUCK - STANDARD</td>\n",
       "            <td>301.51301115241637</td>\n",
       "        </tr>\n",
       "        <tr>\n",
       "            <td>PICKUP TRUCK - SMALL</td>\n",
       "            <td>278.9685534591195</td>\n",
       "        </tr>\n",
       "        <tr>\n",
       "            <td>TWO-SEATER</td>\n",
       "            <td>277.454347826087</td>\n",
       "        </tr>\n",
       "        <tr>\n",
       "            <td>FULL-SIZE</td>\n",
       "            <td>263.31611893583727</td>\n",
       "        </tr>\n",
       "        <tr>\n",
       "            <td>MINIVAN</td>\n",
       "            <td>262.3125</td>\n",
       "        </tr>\n",
       "        <tr>\n",
       "            <td>SUBCOMPACT</td>\n",
       "            <td>246.44884488448844</td>\n",
       "        </tr>\n",
       "        <tr>\n",
       "            <td>STATION WAGON - MID-SIZE</td>\n",
       "            <td>238.69811320754718</td>\n",
       "        </tr>\n",
       "        <tr>\n",
       "            <td>SPECIAL PURPOSE VEHICLE</td>\n",
       "            <td>237.5974025974026</td>\n",
       "        </tr>\n",
       "        <tr>\n",
       "            <td>MINICOMPACT</td>\n",
       "            <td>236.6073619631902</td>\n",
       "        </tr>\n",
       "        <tr>\n",
       "            <td>SUV - SMALL</td>\n",
       "            <td>236.29252259654888</td>\n",
       "        </tr>\n",
       "        <tr>\n",
       "            <td>MID-SIZE</td>\n",
       "            <td>222.45542806707854</td>\n",
       "        </tr>\n",
       "        <tr>\n",
       "            <td>COMPACT</td>\n",
       "            <td>216.67906066536204</td>\n",
       "        </tr>\n",
       "        <tr>\n",
       "            <td>STATION WAGON - SMALL</td>\n",
       "            <td>200.06746031746033</td>\n",
       "        </tr>\n",
       "    </tbody>\n",
       "</table>"
      ],
      "text/plain": [
       "[('VAN - PASSENGER', 397.2121212121212),\n",
       " ('VAN - CARGO', 361.5),\n",
       " ('SUV - STANDARD', 304.83673469387753),\n",
       " ('PICKUP TRUCK - STANDARD', 301.51301115241637),\n",
       " ('PICKUP TRUCK - SMALL', 278.9685534591195),\n",
       " ('TWO-SEATER', 277.454347826087),\n",
       " ('FULL-SIZE', 263.31611893583727),\n",
       " ('MINIVAN', 262.3125),\n",
       " ('SUBCOMPACT', 246.44884488448844),\n",
       " ('STATION WAGON - MID-SIZE', 238.69811320754718),\n",
       " ('SPECIAL PURPOSE VEHICLE', 237.5974025974026),\n",
       " ('MINICOMPACT', 236.6073619631902),\n",
       " ('SUV - SMALL', 236.29252259654888),\n",
       " ('MID-SIZE', 222.45542806707854),\n",
       " ('COMPACT', 216.67906066536204),\n",
       " ('STATION WAGON - SMALL', 200.06746031746033)]"
      ]
     },
     "execution_count": 14,
     "metadata": {},
     "output_type": "execute_result"
    }
   ],
   "source": [
    "%%sql\n",
    "\n",
    "SELECT \"Vehicle Class\",\n",
    "    AVG(\"CO2 Emissions(g/km)\") AS avg_co2\n",
    "FROM vehicle_co2_emission_table\n",
    "GROUP BY \"Vehicle Class\"\n",
    "ORDER BY avg_co2 DESC;"
   ]
  },
  {
   "cell_type": "markdown",
   "id": "adfb8ef4",
   "metadata": {},
   "source": [
    "5. Which transmission type is associated with the lowest average CO2 emissions?"
   ]
  },
  {
   "cell_type": "code",
   "execution_count": 15,
   "id": "2334721c",
   "metadata": {},
   "outputs": [
    {
     "name": "stdout",
     "output_type": "stream",
     "text": [
      " * sqlite:///vehicle_co2_emission_data.db\n",
      "Done.\n"
     ]
    },
    {
     "data": {
      "text/html": [
       "<table>\n",
       "    <thead>\n",
       "        <tr>\n",
       "            <th>Transmission</th>\n",
       "            <th>avg_co2</th>\n",
       "        </tr>\n",
       "    </thead>\n",
       "    <tbody>\n",
       "        <tr>\n",
       "            <td>AM5</td>\n",
       "            <td>148.5</td>\n",
       "        </tr>\n",
       "    </tbody>\n",
       "</table>"
      ],
      "text/plain": [
       "[('AM5', 148.5)]"
      ]
     },
     "execution_count": 15,
     "metadata": {},
     "output_type": "execute_result"
    }
   ],
   "source": [
    "%%sql\n",
    "\n",
    "SELECT \"Transmission\",\n",
    "    AVG(\"CO2 Emissions(g/km)\") AS avg_co2\n",
    "FROM vehicle_co2_emission_table\n",
    "GROUP BY \"Transmission\"\n",
    "ORDER BY avg_co2 ASC\n",
    "LIMIT 1;"
   ]
  },
  {
   "cell_type": "markdown",
   "id": "91c169b3",
   "metadata": {},
   "source": [
    "6. What is the trend between engine size and CO2 emissions?"
   ]
  },
  {
   "cell_type": "code",
   "execution_count": 16,
   "id": "b1b4aaf2",
   "metadata": {},
   "outputs": [
    {
     "name": "stdout",
     "output_type": "stream",
     "text": [
      " * sqlite:///vehicle_co2_emission_data.db\n",
      "Done.\n"
     ]
    },
    {
     "data": {
      "text/html": [
       "<table>\n",
       "    <thead>\n",
       "        <tr>\n",
       "            <th>engine_size</th>\n",
       "            <th>avg_co2</th>\n",
       "        </tr>\n",
       "    </thead>\n",
       "    <tbody>\n",
       "        <tr>\n",
       "            <td>0.0</td>\n",
       "            <td>250.58469871360867</td>\n",
       "        </tr>\n",
       "    </tbody>\n",
       "</table>"
      ],
      "text/plain": [
       "[(0.0, 250.58469871360867)]"
      ]
     },
     "execution_count": 16,
     "metadata": {},
     "output_type": "execute_result"
    }
   ],
   "source": [
    "%%sql\n",
    "\n",
    "SELECT ROUND(\"Engine Size (L)\", 1) AS engine_size,\n",
    "    AVG(\"CO2 Emissions(g/km)\") AS avg_co2\n",
    "FROM vehicle_co2_emission_table\n",
    "GROUP BY engine_size\n",
    "ORDER BY engine_size ASC;"
   ]
  },
  {
   "cell_type": "markdown",
   "id": "6390f461",
   "metadata": {},
   "source": [
    "7. Which manufacturers offer hybrid vehicles, and what are their average CO2 emissions?"
   ]
  },
  {
   "cell_type": "code",
   "execution_count": 17,
   "id": "13145461",
   "metadata": {},
   "outputs": [
    {
     "name": "stdout",
     "output_type": "stream",
     "text": [
      " * sqlite:///vehicle_co2_emission_data.db\n",
      "Done.\n"
     ]
    },
    {
     "data": {
      "text/html": [
       "<table>\n",
       "    <thead>\n",
       "        <tr>\n",
       "            <th>Make</th>\n",
       "            <th>hybrid_count</th>\n",
       "            <th>avg_co2</th>\n",
       "        </tr>\n",
       "    </thead>\n",
       "    <tbody>\n",
       "        <tr>\n",
       "            <td>HONDA</td>\n",
       "            <td>7</td>\n",
       "            <td>115.85714285714286</td>\n",
       "        </tr>\n",
       "        <tr>\n",
       "            <td>CHEVROLET</td>\n",
       "            <td>4</td>\n",
       "            <td>121.25</td>\n",
       "        </tr>\n",
       "        <tr>\n",
       "            <td>VOLKSWAGEN</td>\n",
       "            <td>3</td>\n",
       "            <td>123.33333333333333</td>\n",
       "        </tr>\n",
       "        <tr>\n",
       "            <td>HYUNDAI</td>\n",
       "            <td>13</td>\n",
       "            <td>136.76923076923077</td>\n",
       "        </tr>\n",
       "        <tr>\n",
       "            <td>LINCOLN</td>\n",
       "            <td>7</td>\n",
       "            <td>137.42857142857142</td>\n",
       "        </tr>\n",
       "        <tr>\n",
       "            <td>FORD</td>\n",
       "            <td>15</td>\n",
       "            <td>139.86666666666667</td>\n",
       "        </tr>\n",
       "        <tr>\n",
       "            <td>KIA</td>\n",
       "            <td>10</td>\n",
       "            <td>140.8</td>\n",
       "        </tr>\n",
       "        <tr>\n",
       "            <td>TOYOTA</td>\n",
       "            <td>31</td>\n",
       "            <td>152.80645161290323</td>\n",
       "        </tr>\n",
       "        <tr>\n",
       "            <td>SUBARU</td>\n",
       "            <td>3</td>\n",
       "            <td>175.0</td>\n",
       "        </tr>\n",
       "        <tr>\n",
       "            <td>ACURA</td>\n",
       "            <td>12</td>\n",
       "            <td>187.58333333333334</td>\n",
       "        </tr>\n",
       "        <tr>\n",
       "            <td>INFINITI</td>\n",
       "            <td>16</td>\n",
       "            <td>188.625</td>\n",
       "        </tr>\n",
       "        <tr>\n",
       "            <td>MERCEDES-BENZ</td>\n",
       "            <td>1</td>\n",
       "            <td>202.0</td>\n",
       "        </tr>\n",
       "        <tr>\n",
       "            <td>NISSAN</td>\n",
       "            <td>2</td>\n",
       "            <td>202.0</td>\n",
       "        </tr>\n",
       "        <tr>\n",
       "            <td>AUDI</td>\n",
       "            <td>3</td>\n",
       "            <td>208.66666666666666</td>\n",
       "        </tr>\n",
       "        <tr>\n",
       "            <td>BMW</td>\n",
       "            <td>7</td>\n",
       "            <td>209.42857142857142</td>\n",
       "        </tr>\n",
       "        <tr>\n",
       "            <td>PORSCHE</td>\n",
       "            <td>1</td>\n",
       "            <td>251.0</td>\n",
       "        </tr>\n",
       "    </tbody>\n",
       "</table>"
      ],
      "text/plain": [
       "[('HONDA', 7, 115.85714285714286),\n",
       " ('CHEVROLET', 4, 121.25),\n",
       " ('VOLKSWAGEN', 3, 123.33333333333333),\n",
       " ('HYUNDAI', 13, 136.76923076923077),\n",
       " ('LINCOLN', 7, 137.42857142857142),\n",
       " ('FORD', 15, 139.86666666666667),\n",
       " ('KIA', 10, 140.8),\n",
       " ('TOYOTA', 31, 152.80645161290323),\n",
       " ('SUBARU', 3, 175.0),\n",
       " ('ACURA', 12, 187.58333333333334),\n",
       " ('INFINITI', 16, 188.625),\n",
       " ('MERCEDES-BENZ', 1, 202.0),\n",
       " ('NISSAN', 2, 202.0),\n",
       " ('AUDI', 3, 208.66666666666666),\n",
       " ('BMW', 7, 209.42857142857142),\n",
       " ('PORSCHE', 1, 251.0)]"
      ]
     },
     "execution_count": 17,
     "metadata": {},
     "output_type": "execute_result"
    }
   ],
   "source": [
    "%%sql\n",
    "\n",
    "SELECT \"Make\",\n",
    "    COUNT(*) AS hybrid_count, \n",
    "    AVG(\"CO2 Emissions(g/km)\") AS avg_co2\n",
    "FROM vehicle_co2_emission_table\n",
    "WHERE \"Model\" LIKE \"%HYBRID%\"\n",
    "GROUP BY \"Make\"\n",
    "ORDER BY avg_co2 ASC;"
   ]
  },
  {
   "cell_type": "code",
   "execution_count": null,
   "id": "e76ccefe",
   "metadata": {},
   "outputs": [],
   "source": []
  }
 ],
 "metadata": {
  "kernelspec": {
   "display_name": "base",
   "language": "python",
   "name": "python3"
  },
  "language_info": {
   "codemirror_mode": {
    "name": "ipython",
    "version": 3
   },
   "file_extension": ".py",
   "mimetype": "text/x-python",
   "name": "python",
   "nbconvert_exporter": "python",
   "pygments_lexer": "ipython3",
   "version": "3.9.13"
  }
 },
 "nbformat": 4,
 "nbformat_minor": 5
}
